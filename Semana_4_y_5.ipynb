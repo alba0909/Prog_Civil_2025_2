{
  "nbformat": 4,
  "nbformat_minor": 0,
  "metadata": {
    "colab": {
      "provenance": [],
      "authorship_tag": "ABX9TyN6rQT/LVLsBdozK7+II17o",
      "include_colab_link": true
    },
    "kernelspec": {
      "name": "python3",
      "display_name": "Python 3"
    },
    "language_info": {
      "name": "python"
    }
  },
  "cells": [
    {
      "cell_type": "markdown",
      "metadata": {
        "id": "view-in-github",
        "colab_type": "text"
      },
      "source": [
        "<a href=\"https://colab.research.google.com/github/alba0909/Prog_Civil_2025_2/blob/main/Semana_4_y_5.ipynb\" target=\"_parent\"><img src=\"https://colab.research.google.com/assets/colab-badge.svg\" alt=\"Open In Colab\"/></a>"
      ]
    },
    {
      "cell_type": "markdown",
      "source": [],
      "metadata": {
        "id": "wepvQ3PpTcCa"
      }
    },
    {
      "cell_type": "markdown",
      "source": [
        "#Caso de Ingeniería Civil: Calculadora de Peso Estructural (Diccionarios y Funciones)\n",
        "•\tPaso a Paso del Código:\n",
        "1.\tCrear un diccionario que funcione como una base de datos de densidades. La clave será el nombre del material y el valor será su densidad en kg/m³.\n",
        "2.\tCrear una funcióncalcular_peso que reciba el diccionario de densidades, el nombre del material y su volumen.\n",
        "3.\tDentro de la función, buscar la densidad del material en el diccionario.\n",
        "4.\tSi el material existe, calcular y devolver el peso (densidad * volumen). Si no, devolver un mensaje de error o None.\n",
        "5.\tEn el programa principal, pedir al usuario el tipo de material y las dimensiones del elemento para calcular su volumen.\n",
        "6.\tLlamar a la función calcular_peso y mostrar el resultado.\n"
      ],
      "metadata": {
        "id": "TPPEMuk7Y_aY"
      }
    },
    {
      "cell_type": "code",
      "metadata": {
        "colab": {
          "base_uri": "https://localhost:8080/"
        },
        "id": "903360d3",
        "outputId": "9d56d71f-320d-4da5-8fcc-97779b62d826"
      },
      "source": [
        "# 1. Crear un diccionario de densidades\n",
        "densidades = {\n",
        "    \"acero\": 7850,  # kg/m³\n",
        "    \"concreto\": 2400, # kg/m³\n",
        "    \"madera (pino)\": 500, # kg/m³ (ejemplo, varía mucho)\n",
        "    \"aluminio\": 2700 # kg/m³\n",
        "}\n",
        "\n",
        "# 2. Crear una función calcular_peso\n",
        "def calcular_peso(diccionario_densidades, material, volumen):\n",
        "    # 3. Buscar la densidad del material\n",
        "    if material in diccionario_densidades:\n",
        "        # 4. Calcular y devolver el peso\n",
        "        densidad = diccionario_densidades[material]\n",
        "        peso = densidad * volumen\n",
        "        return peso\n",
        "    else:\n",
        "        # 4. Devolver un mensaje de error\n",
        "        return None\n",
        "\n",
        "# 5. En el programa principal, pedir al usuario el tipo de material y las dimensiones\n",
        "print(\"Materiales disponibles:\", list(densidades.keys()))\n",
        "tipo_material = input(\"Ingrese el tipo de material: \").lower()\n",
        "\n",
        "try:\n",
        "    largo = float(input(\"Ingrese el largo del elemento (en metros): \"))\n",
        "    ancho = float(input(\"Ingrese el ancho del elemento (en metros): \"))\n",
        "    alto = float(input(\"Ingrese la altura del elemento (en metros): \"))\n",
        "    volumen = largo * ancho * alto\n",
        "\n",
        "    # 6. Llamar a la función calcular_peso y mostrar el resultado\n",
        "    peso_calculado = calcular_peso(densidades, tipo_material, volumen)\n",
        "\n",
        "    if peso_calculado is not None:\n",
        "        print(f\"El peso del elemento de {tipo_material} es: {peso_calculado:.2f} kg\")\n",
        "    else:\n",
        "        print(\"Material no encontrado en la base de datos.\")\n",
        "\n",
        "except ValueError:\n",
        "    print(\"Entrada inválida. Por favor ingrese valores numéricos para las dimensiones.\")"
      ],
      "execution_count": 1,
      "outputs": [
        {
          "output_type": "stream",
          "name": "stdout",
          "text": [
            "Materiales disponibles: ['acero', 'concreto', 'madera (pino)', 'aluminio']\n",
            "Ingrese el tipo de material: concreto\n",
            "Ingrese el largo del elemento (en metros): 6\n",
            "Ingrese el ancho del elemento (en metros): 2\n",
            "Ingrese la altura del elemento (en metros): 1\n",
            "El peso del elemento de concreto es: 28800.00 kg\n"
          ]
        }
      ]
    }
  ]
}