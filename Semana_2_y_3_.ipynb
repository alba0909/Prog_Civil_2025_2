{
  "nbformat": 4,
  "nbformat_minor": 0,
  "metadata": {
    "colab": {
      "provenance": [],
      "authorship_tag": "ABX9TyPtUhwUp5CgW+GqMhK6RTYB",
      "include_colab_link": true
    },
    "kernelspec": {
      "name": "python3",
      "display_name": "Python 3"
    },
    "language_info": {
      "name": "python"
    }
  },
  "cells": [
    {
      "cell_type": "markdown",
      "metadata": {
        "id": "view-in-github",
        "colab_type": "text"
      },
      "source": [
        "<a href=\"https://colab.research.google.com/github/alba0909/Prog_Civil_2025_2/blob/main/Semana_2_y_3_.ipynb\" target=\"_parent\"><img src=\"https://colab.research.google.com/assets/colab-badge.svg\" alt=\"Open In Colab\"/></a>"
      ]
    },
    {
      "cell_type": "markdown",
      "source": [
        "#Clasificador de pH del Suelo El pH del suelo\n",
        " es un factor crítico para la absorción de nutrientes por parte de las plantas. Desarrollarás un programa que recibe un valor de pH e informa al agricultor si el suelo es ácido, neutro o alcalino, ofreciendo una recomendación general.\n",
        "\n",
        " •\tPaso a Paso del Código (Guía para el Notebook)\n",
        "1.\t# Explicar al usuario que el programa clasifica el pH del suelo.\n",
        "2.\t# Pedir al usuario que ingrese el valor de pH medido (puede ser decimal).\n",
        "3.\t# Guardar el valor en una variable.\n",
        "4.\t# Utilizar una estructura 'if' para la primera condición: si el pH es menor que 6.5.\n",
        "5.\t# Dentro del 'if', mostrar un mensaje indicando que el suelo es \"Ácido\" y recomendar el uso de cal agrícola.\n",
        "6.\t# Utilizar una estructura 'elif' para la segunda condición: si el pH es mayor que 7.5.\n",
        "7.\t# Dentro del 'elif', mostrar un mensaje indicando que el suelo es \"Alcalino\" y recomendar el uso de sulfato.\n",
        "8.\t# Utilizar una estructura 'else' para el caso restante (entre 6.5 y 7.5).\n",
        "9.\t# Dentro del 'else', mostrar un mensaje indicando que el suelo es \"Neutro\" y que es ideal para la mayoría de los cultivos.\n"
      ],
      "metadata": {
        "id": "VNhfF_8eZ3SD"
      }
    },
    {
      "cell_type": "code",
      "metadata": {
        "id": "116d505c"
      },
      "source": [
        "# 1. Explicar al usuario que el programa clasifica el pH del suelo.\n",
        "print(\"#Clasificador de pH del Suelo El pH del suelo\")\n",
        "print(\"es un factor crítico para la absorción de nutrientes por parte de las plantas. Desarrollarás un programa que recibe un valor de pH e informa al agricultor si el suelo es ácido, neutro o alcalino, ofreciendo una recomendación general.\")\n",
        "print(\"-\" * 30) # Separador para mejor lectura\n",
        "\n",
        "# 2. Pedir al usuario que ingrese el valor de pH medido (puede ser decimal).\n",
        "# 3. Guardar el valor en una variable.\n",
        "try:\n",
        "    valor_ph = float(input(\"Por favor, ingrese el valor de pH medido: \"))\n",
        "\n",
        "    # 4. Utilizar una estructura 'if' para la primera condición: si el pH es menor que 6.5.\n",
        "    if valor_ph < 6.5:\n",
        "        # 5. Dentro del 'if', mostrar un mensaje indicando que el suelo es \"Ácido\" y recomendar el uso de cal agrícola.\n",
        "        print(\"El suelo es Ácido.\")\n",
        "        print(\"Recomendación: Considere el uso de cal agrícola para aumentar el pH.\")\n",
        "    # 6. Utilizar una estructura 'elif' para la segunda condición: si el pH es mayor que 7.5.\n",
        "    elif valor_ph > 7.5:\n",
        "        # 7. Dentro del 'elif', mostrar un mensaje indicando que el suelo es \"Alcalino\" y recomendar el uso de sulfato.\n",
        "        print(\"El suelo es Alcalino.\")\n",
        "        print(\"Recomendación: Considere el uso de sulfato para disminuir el pH.\")\n",
        "    # 8. Utilizar una estructura 'else' para el caso restante (entre 6.5 y 7.5).\n",
        "    else:\n",
        "        # 9. Dentro del 'else', mostrar un mensaje indicando que el suelo es \"Neutro\" y que es ideal para la mayoría de los cultivos.\n",
        "        print(\"El suelo es Neutro.\")\n",
        "        print(\"Recomendación: Este rango de pH es ideal para la mayoría de los cultivos.\")\n",
        "\n",
        "except ValueError:\n",
        "    print(\"Entrada inválida. Por favor, ingrese un número para el valor de pH.\")"
      ],
      "execution_count": null,
      "outputs": []
    }
  ]
}