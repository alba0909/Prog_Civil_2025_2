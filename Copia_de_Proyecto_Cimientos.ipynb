{
  "cells": [
    {
      "cell_type": "markdown",
      "metadata": {
        "id": "view-in-github",
        "colab_type": "text"
      },
      "source": [
        "<a href=\"https://colab.research.google.com/github/alba0909/Prog_Civil_2025_2/blob/main/Copia_de_Proyecto_Cimientos.ipynb\" target=\"_parent\"><img src=\"https://colab.research.google.com/assets/colab-badge.svg\" alt=\"Open In Colab\"/></a>"
      ]
    },
    {
      "cell_type": "code",
      "execution_count": null,
      "metadata": {
        "colab": {
          "background_save": true,
          "base_uri": "https://localhost:8080/"
        },
        "collapsed": true,
        "id": "dLRrK6-HtYwF",
        "outputId": "b6666fc7-f266-417a-d621-7238711877e1"
      },
      "outputs": [
        {
          "name": "stdout",
          "output_type": "stream",
          "text": [
            "=== Calculadora de Costos de Materiales para Cimientos ===\n",
            "1. Calcular costo de cimiento\n",
            "2. Salir\n",
            "Opción no válida. Por favor, intente de nuevo.\n",
            "\n",
            "=== Calculadora de Costos de Materiales para Cimientos ===\n",
            "1. Calcular costo de cimiento\n",
            "2. Salir\n",
            "Opción no válida. Por favor, intente de nuevo.\n",
            "\n",
            "=== Calculadora de Costos de Materiales para Cimientos ===\n",
            "1. Calcular costo de cimiento\n",
            "2. Salir\n"
          ]
        }
      ],
      "source": [
        "# Calculadora de Costos de Materiales para Cimientos\n",
        "# Autor: [María Fernanda]\n",
        "# Fecha: [10sept]\n",
        "# Descripcion: Programa para estimar cantidad y costo de materiales para un cimiento de concreto simple.\n",
        "\n",
        "# Diccionario con precios unitarios de materiales (USD)\n",
        "# Las claves son los materiales y los valores son los precios por unidad\n",
        "precios = {\"cemento\" : 8, # por saco de 42.5 kg\n",
        "\"arena\" : 20, # por m³\n",
        "\"grava\" : 25, # por m³\n",
        "\"agua\" : 1} # por m³\n",
        "\n",
        "# Diccionario con dosificacion estandar por un m³ de concreto\n",
        "# Esto indica cuantas unidades de cada material se necesitan por cada m³ de concreteo\n",
        "dosificacion = {\"cemento\" : 7, # sacos\n",
        "                \"arena\" : 0.6, # m³\n",
        "                \"grava\" : 0.8, # m³\n",
        "                \"agua\" : 0.2} # m³\n",
        "\n",
        "# Funcion para calcular el volumen del cimiento\n",
        "def calcular_volumen(largo, ancho, alto):\n",
        "    return largo * ancho * alto\n",
        "\n",
        "# Funcion para calcular la cantidad de material segun el volumen\n",
        "def calcular_materiales(volumen):\n",
        "    materiales = {material: volumen * cantidad for material, cantidad in dosificacion.items()}\n",
        "    return materiales\n",
        "\n",
        "# Funcion para calcular el costo total del cimiento\n",
        "def calcular_costo(materiales):\n",
        "    total = 0\n",
        "    for material, cantidad in materiales.items():\n",
        "        total += cantidad * precios[material]\n",
        "    return total\n",
        "\n",
        "# Funcion para mostrar resultados de manera clara con unidades\n",
        "def mostrar_resultados(volumen, materiales, costo_total):\n",
        "    print(\"\\n--- Resumen del Cimiento ---\")\n",
        "    print(f\"Volumen del cimiento: {volumen:.2f} m³\")\n",
        "    print(\"Cantidades de materiales requeridos:\")\n",
        "    for material, cantidad in materiales.items():\n",
        "        unidad = \"sacos\" if material == \"cemento\" else \"m³\"\n",
        "        print(f\"{cantidad:.2f} {unidad} de {material}\")\n",
        "    print(f\"Costo total estimado de los materiales: ${costo_total:.2f} USD\\n\")\n",
        "\n",
        "# Funcion para obtener una dimension numerica y positiva del usuario\n",
        "def obtener_dimension_valida(prompt):\n",
        "    while True:\n",
        "        try:\n",
        "            valor = float(input(prompt))\n",
        "            if valor <= 0:\n",
        "                print(\"Error: El valor debe ser un número positivo.\")\n",
        "                continue\n",
        "            return valor\n",
        "        except ValueError:\n",
        "            print(\"Error: Entrada no válida. Por favor, ingrese un número.\")\n",
        "\n",
        "# --- Programa principal con menú ---\n",
        "def main():\n",
        "    while True:\n",
        "        print(\"=== Calculadora de Costos de Materiales para Cimientos ===\")\n",
        "        print(\"1. Calcular costo de cimiento\")\n",
        "        print(\"2. Salir\")\n",
        "        opcion = input(\"Seleccione una opción: \")\n",
        "\n",
        "        if opcion == \"1\":\n",
        "           # Solicitar dimensiones\n",
        "           largo = obtener_dimension_valida(\"Ingrese el largo del cimiento (metros): \")\n",
        "           ancho = obtener_dimension_valida(\"Ingrese el ancho del cimiento (metros): \")\n",
        "           alto = obtener_dimension_valida(\"Ingrese la altura del cimiento (metros): \")\n",
        "\n",
        "           # Calcular volumen, materiales y costo\n",
        "           volumen = calcular_volumen(largo, ancho, alto)\n",
        "           materiales = calcular_materiales(volumen)\n",
        "           costo_total = calcular_costo(materiales)\n",
        "\n",
        "           # Mostrar resultados\n",
        "           mostrar_resultados(volumen, materiales, costo_total)\n",
        "\n",
        "        elif opcion == \"2\":\n",
        "            print(\"Saliendo del programa...\")\n",
        "            break\n",
        "        else:\n",
        "            print(\"Opción no válida. Por favor, intente de nuevo.\\n\")\n",
        "\n",
        "# Ejecutar el programa\n",
        "if __name__ == \"__main__\":\n",
        "    main()"
      ]
    },
    {
      "cell_type": "code",
      "execution_count": null,
      "metadata": {
        "id": "bTqpNUd8xDgN"
      },
      "outputs": [],
      "source": []
    }
  ],
  "metadata": {
    "colab": {
      "provenance": [],
      "authorship_tag": "ABX9TyObHNDCQc9FYLe7pQtT5qU2",
      "include_colab_link": true
    },
    "kernelspec": {
      "display_name": "Python 3",
      "name": "python3"
    },
    "language_info": {
      "name": "python"
    }
  },
  "nbformat": 4,
  "nbformat_minor": 0
}