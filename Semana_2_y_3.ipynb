{
  "nbformat": 4,
  "nbformat_minor": 0,
  "metadata": {
    "colab": {
      "provenance": [],
      "authorship_tag": "ABX9TyN5iRKUPQQEBiO9AOG3cv+G",
      "include_colab_link": true
    },
    "kernelspec": {
      "name": "python3",
      "display_name": "Python 3"
    },
    "language_info": {
      "name": "python"
    }
  },
  "cells": [
    {
      "cell_type": "markdown",
      "metadata": {
        "id": "view-in-github",
        "colab_type": "text"
      },
      "source": [
        "<a href=\"https://colab.research.google.com/github/alba0909/Prog_Civil_2025_2/blob/main/Semana_2_y_3.ipynb\" target=\"_parent\"><img src=\"https://colab.research.google.com/assets/colab-badge.svg\" alt=\"Open In Colab\"/></a>"
      ]
    },
    {
      "cell_type": "markdown",
      "source": [
        "# Situación de Interés en Ingeniería Civil  :\n",
        "Un ingeniero estructural necesita calcular el peso de diferentes elementos de una construcción (vigas, columnas). El programa debe tener una base de datos con las densidades de materiales comunes (acero, concreto, madera) y, a partir del tipo de material y el volumen del elemento, debe calcular su peso total.\n",
        "\n",
        "Caso de Ingeniería Civil: Calculadora de Peso Estructural (Diccionarios y Funciones) •\tPaso a Paso del Código:\n",
        "1.\tCrear un diccionario que funcione como una base de datos de densidades. La clave será el nombre del material y el valor será su densidad en kg/m³.\n",
        "2.\tCrear una funcióncalcular_peso que reciba el diccionario de densidades, el nombre del material y su volumen.\n",
        "3.\tDentro de la función, buscar la densidad del material en el diccionario.\n",
        "4.\tSi el material existe, calcular y devolver el peso (densidad * volumen). Si no, devolver un mensaje de error o None.\n",
        "5.\tEn el programa principal, pedir al usuario el tipo de material y las dimensiones del elemento para calcular su volumen.\n",
        "6.\tLlamar a la función calcular_peso y mostrar el resultado.\n"
      ],
      "metadata": {
        "id": "U9sW6kDTTeM-"
      }
    },
    {
      "cell_type": "code",
      "source": [],
      "metadata": {
        "id": "qesehfirUGb6"
      },
      "execution_count": null,
      "outputs": []
    },
    {
      "cell_type": "code",
      "metadata": {
        "colab": {
          "base_uri": "https://localhost:8080/"
        },
        "id": "f01ae42d",
        "outputId": "6862ccd3-15a0-4450-8a3f-bf3a5ee49945"
      },
      "source": [
        "# 1. Crear un diccionario que funcione como una base de datos de densidades.\n",
        "densidades = {\n",
        "    \"acero\": 7850,  # kg/m³\n",
        "    \"concreto\": 2400,  # kg/m³\n",
        "    \"madera\": 700   # kg/m³ (valor promedio, puede variar)\n",
        "}\n",
        "\n",
        "# 2. Crear una función calcular_peso\n",
        "def calcular_peso(diccionario_densidades, material, volumen):\n",
        "    # 3. Dentro de la función, buscar la densidad del material en el diccionario.\n",
        "    if material.lower() in diccionario_densidades:\n",
        "        densidad = diccionario_densidades[material.lower()]\n",
        "        # 4. Si el material existe, calcular y devolver el peso (densidad * volumen).\n",
        "        peso = densidad * volumen\n",
        "        return peso\n",
        "    else:\n",
        "        # Si no, devolver un mensaje de error o None.\n",
        "        return None\n",
        "\n",
        "# 5. En el programa principal, pedir al usuario el tipo de material y las dimensiones del elemento para calcular su volumen.\n",
        "if __name__ == \"__main__\":\n",
        "    print(\"Calculadora de Peso Estructural\")\n",
        "    print(\"Materiales disponibles:\", \", \".join(densidades.keys()))\n",
        "\n",
        "    material_usuario = input(\"Ingrese el tipo de material: \")\n",
        "    try:\n",
        "        # Suponiendo que el usuario ingresa el volumen directamente para simplificar\n",
        "        volumen_usuario = float(input(\"Ingrese el volumen del elemento en m³: \"))\n",
        "\n",
        "        # 6. Llamar a la función calcular_peso y mostrar el resultado.\n",
        "        peso_calculado = calcular_peso(densidades, material_usuario, volumen_usuario)\n",
        "\n",
        "        if peso_calculado is not None:\n",
        "            print(f\"El peso del elemento de {material_usuario} con un volumen de {volumen_usuario} m³ es: {peso_calculado:.2f} kg\")\n",
        "        else:\n",
        "            print(f\"Error: El material '{material_usuario}' no se encuentra en la base de datos.\")\n",
        "\n",
        "    except ValueError:\n",
        "        print(\"Error: Por favor, ingrese un valor numérico válido para el volumen.\")"
      ],
      "execution_count": null,
      "outputs": [
        {
          "metadata": {
            "tags": null
          },
          "name": "stdout",
          "output_type": "stream",
          "text": [
            "Calculadora de Peso Estructural\n",
            "Materiales disponibles: acero, concreto, madera\n"
          ]
        }
      ]
    }
  ]
}