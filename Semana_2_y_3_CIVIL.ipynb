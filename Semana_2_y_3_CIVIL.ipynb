{
  "nbformat": 4,
  "nbformat_minor": 0,
  "metadata": {
    "colab": {
      "provenance": [],
      "authorship_tag": "ABX9TyNIKVBotrd3vsLwUfWaPv4j",
      "include_colab_link": true
    },
    "kernelspec": {
      "name": "python3",
      "display_name": "Python 3"
    },
    "language_info": {
      "name": "python"
    }
  },
  "cells": [
    {
      "cell_type": "markdown",
      "metadata": {
        "id": "view-in-github",
        "colab_type": "text"
      },
      "source": [
        "<a href=\"https://colab.research.google.com/github/justorfc/Prog_Civil_2025_2/blob/main/Semana_2_y_3_CIVIL.ipynb\" target=\"_parent\"><img src=\"https://colab.research.google.com/assets/colab-badge.svg\" alt=\"Open In Colab\"/></a>"
      ]
    },
    {
      "cell_type": "markdown",
      "source": [
        "#  Situación 1: Clasificador de pH del Suelo\n",
        "\n",
        "El pH del suelo es un factor crítico para la absorción de\n",
        " nutrientes por parte de las plantas. Desarrollarás un programa que recibe un valor de pH e informa al agricultor si el suelo es ácido, neutro o alcalino, ofreciendo una recomendación general."
      ],
      "metadata": {
        "id": "IsHnu_Wj_Nor"
      }
    },
    {
      "cell_type": "code",
      "source": [
        "# Explicar al usuario que el programa clasifica el pH del suelo.\n",
        "print(\"Este programa clasifica el pH del suelo.\")\n",
        "\n",
        "# Pedir al usuario que ingrese el valor de pH medido (puede ser decimal).\n",
        "# Guardar el valor en una variable.\n",
        "pH = float(input(\"Por favor ingrese el valor de pH medido: \"))\n",
        "\n",
        "# Utilizar una estructura 'if' para la primera condición: si el pH es menor que 7.0.\n",
        "# Dentro del 'if', mostrar un mensaje indicando que el suelo es \"Ácido\" y recomendar el uso de cal agrícola.\n",
        "if pH < 7:\n",
        "    print(\"El suelo es ácido.\")\n",
        "    print(\"recomendar el uso de cal agrícola.\")\n",
        "# Utilizar una estructura 'elif' para la segunda condición: si el pH es mayor que 7.\n",
        "elif pH > 7:\n",
        "    # Dentro del 'elif', mostrar un mensaje indicando que el suelo es \"Alcalino\" y recomendar el uso de fertilizantes.\n",
        "    print(\"El suelo es alcalino.\")\n",
        "    print(\"recomendar el uso de fertilizantes.\")\n",
        "else:\n",
        "    # Dentro del 'else', mostrar un mensaje indicando que el suelo es \"Neutro\" y que\n",
        "    # es ideal para la mayoría de los cultivos.\n",
        "    print(\"El suelo es neutro.\")\n",
        "    print(\"es ideal para la mayoría de los cultivos.\")"
      ],
      "metadata": {
        "colab": {
          "base_uri": "https://localhost:8080/"
        },
        "id": "xZuUgl1T_dq2",
        "outputId": "9a6730c1-f624-4cc1-f7a5-7b9cfc8cd877"
      },
      "execution_count": 7,
      "outputs": [
        {
          "output_type": "stream",
          "name": "stdout",
          "text": [
            "Este programa clasifica el pH del suelo.\n",
            "Por favor ingrese el valor de pH medido: 7\n",
            "El suelo es neutro.\n",
            "es ideal para la mayoría de los cultivos.\n"
          ]
        }
      ]
    },
    {
      "cell_type": "markdown",
      "source": [
        "# Situación 1: Verificación de Resistencia de Concreto\n",
        "\n",
        "Un laboratorio de materiales ensaya probetas\n",
        " de concreto a los 28 días. El concreto es de tipo “G-25”, lo que significa que debe tener una resistencia mínima\n",
        " de 25 MPa.\n",
        "\n",
        " El programa debe indicar si la probeta cumple, está por debajo o supera excepcionalmente la  norma (más de 30 MPa).\n",
        "\n",
        " Paso a Paso del Código (Guía para el Notebook)\n",
        " 1. # Explicar que el programa verifica la resistencia de una probeta de concreto.\n",
        " 2. # Pedir al usuario que ingrese la resistencia obtenida en el ensayo (en MPa).\n",
        " 3. # Almacenar el resultado en una variable.\n",
        " 4. # Usar una condición 'if' para ver si la resistencia es menor a 25.\n",
        " 5. # Si es así, imprimir \"NO CUMPLE con la norma G-25\".\n",
        " 6. # Usar una condición 'elif' para ver si la resistencia es mayor o igual a 25 Y a\n",
        " la vez menor o igual a 30.\n",
        " 7. # Si es así, imprimir \"CUMPLE con la norma G-25\".\n",
        " 8. # Usar 'else' para el caso restante (mayor a 30).\n",
        " 9. # En el 'else', imprimir \"CUMPLE y supera excepcionalmente la norma G-25\".\n"
      ],
      "metadata": {
        "id": "r1q3BlnEKK93"
      }
    },
    {
      "cell_type": "code",
      "source": [],
      "metadata": {
        "id": "wjYL7s9KKza6"
      },
      "execution_count": null,
      "outputs": []
    },
    {
      "cell_type": "code",
      "metadata": {
        "colab": {
          "base_uri": "https://localhost:8080/"
        },
        "id": "23459f87",
        "outputId": "e5520aa2-504f-44d6-98cb-64d2ce18d1f5"
      },
      "source": [
        "# Explicar que el programa verifica la resistencia de una probeta de concreto.\n",
        "print(\"Este programa verifica la resistencia de una probeta de concreto.\")\n",
        "\n",
        "# Pedir al usuario que ingrese la resistencia obtenida en el ensayo (en MPa).\n",
        "# Almacenar el resultado en una variable.\n",
        "resistencia = float(input(\"Por favor ingrese la resistencia obtenida en el ensayo (en MPa): \"))\n",
        "\n",
        "# Usar una condición 'if' para ver si la resistencia es menor a 25.\n",
        "if resistencia < 25:\n",
        "    # Si es así, imprimir \"NO CUMPLE con la norma G-25\".\n",
        "    print(\"NO CUMPLE con la norma G-25.\")\n",
        "# Usar una condición 'elif' para ver si la resistencia es mayor o igual a 25 Y a la vez menor o igual a 30.\n",
        "elif 25 <= resistencia <= 30:\n",
        "    # Si es así, imprimir \"CUMPLE con la norma G-25\".\n",
        "    print(\"CUMPLE con la norma G-25.\")\n",
        "# Usar 'else' para el caso restante (mayor a 30).\n",
        "else:\n",
        "    # En el 'else', imprimir \"CUMPLE y supera excepcionalmente la norma G-25\".\n",
        "    print(\"CUMPLE y supera excepcionalmente la norma G-25.\")"
      ],
      "execution_count": 9,
      "outputs": [
        {
          "output_type": "stream",
          "name": "stdout",
          "text": [
            "Este programa verifica la resistencia de una probeta de concreto.\n",
            "Por favor ingrese la resistencia obtenida en el ensayo (en MPa): 38\n",
            "CUMPLE y supera excepcionalmente la norma G-25.\n"
          ]
        }
      ]
    }
  ]
}